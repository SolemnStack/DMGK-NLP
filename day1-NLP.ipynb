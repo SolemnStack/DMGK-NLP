{
 "cells": [
  {
   "cell_type": "markdown",
   "id": "94a9c1e3",
   "metadata": {},
   "source": [
    "Reverse String"
   ]
  },
  {
   "cell_type": "code",
   "execution_count": 17,
   "id": "e7cdb89a",
   "metadata": {},
   "outputs": [
    {
     "data": {
      "text/plain": [
       "'yeH'"
      ]
     },
     "execution_count": 17,
     "metadata": {},
     "output_type": "execute_result"
    }
   ],
   "source": [
    "def reverseString(str):\n",
    "    revString = \"\"\n",
    "    for count, values in enumerate(str):\n",
    "        revString += str[len(str)-count-1]\n",
    "    return revString\n",
    "\n",
    "reverseString(\"Hey\")"
   ]
  },
  {
   "cell_type": "code",
   "execution_count": 21,
   "id": "cbad4a5f",
   "metadata": {},
   "outputs": [
    {
     "data": {
      "text/plain": [
       "(4, 2)"
      ]
     },
     "execution_count": 21,
     "metadata": {},
     "output_type": "execute_result"
    }
   ],
   "source": [
    "def countLetters(str):\n",
    "    countLower = 0\n",
    "    countHigher = 0\n",
    "    for count, values in enumerate(str):\n",
    "        if str[count].islower():\n",
    "            countLower += 1\n",
    "        else:\n",
    "            countHigher += 1\n",
    "    return countLower, countHigher\n",
    "\n",
    "countLetters(\"HeyHey\")"
   ]
  },
  {
   "cell_type": "code",
   "execution_count": 32,
   "id": "27c1b1b3",
   "metadata": {},
   "outputs": [
    {
     "name": "stdout",
     "output_type": "stream",
     "text": [
      "yeH\n",
      "yeH\n",
      "3\n"
     ]
    },
    {
     "data": {
      "text/plain": [
       "True"
      ]
     },
     "execution_count": 32,
     "metadata": {},
     "output_type": "execute_result"
    }
   ],
   "source": [
    "def isPalindrome(str):\n",
    "    if len(str)%2==1:\n",
    "        return False\n",
    "    else: \n",
    "        revStr = reverseString(str[0:int(len(str)/2)])\n",
    "        str=str[int(len(str)/2):]\n",
    "        for count, values in enumerate(revStr):\n",
    "            if values == str[count]:\n",
    "                continue\n",
    "            else:\n",
    "                return False\n",
    "    return True\n",
    "\n",
    "isPalindrome(\"HeyyeH\")"
   ]
  },
  {
   "cell_type": "code",
   "execution_count": null,
   "id": "df19eadb",
   "metadata": {},
   "outputs": [],
   "source": [
    "def hyphenSeq(str):\n",
    "    #str.split(''')"
   ]
  }
 ],
 "metadata": {
  "kernelspec": {
   "display_name": "Python 3 (ipykernel)",
   "language": "python",
   "name": "python3"
  },
  "language_info": {
   "codemirror_mode": {
    "name": "ipython",
    "version": 3
   },
   "file_extension": ".py",
   "mimetype": "text/x-python",
   "name": "python",
   "nbconvert_exporter": "python",
   "pygments_lexer": "ipython3",
   "version": "3.9.13"
  }
 },
 "nbformat": 4,
 "nbformat_minor": 5
}
